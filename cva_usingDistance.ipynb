{
 "cells": [
  {
   "cell_type": "code",
   "execution_count": 16,
   "metadata": {},
   "outputs": [
    {
     "name": "stdout",
     "output_type": "stream",
     "text": [
      "[[3 5 2 8]\n",
      " [4 6 2 4]]\n",
      "1.243163121016122\n",
      "1.2431631210161223\n",
      "2.1320071635561044\n",
      "2.4494897427831783\n",
      "2.2763607319179844\n",
      "2.2763607319179844\n"
     ]
    }
   ],
   "source": [
    "import numpy as np\n",
    "import cv2\n",
    "\n",
    "\n",
    "def cva_usingDistance(img1,img2):\n",
    "    (row1,col1,dim1)=img1.shape\n",
    "    (row2,col2,dim2)=img2.shape\n",
    "    print(row1,col1)\n",
    "    if dim1!=dim2:\n",
    "        print(\"维度不同，无法比较\")\n",
    "    temp_img1=img1\n",
    "    temp_img2=img2\n",
    "    #创建两个二维矩阵来存放数据\n",
    "    matrix_CVA= np.array([[0.0]*col1 for i in range(row1)])\n",
    "    matrix_SCM = np.array([[0.0]*col1 for i in range(row1)])\n",
    "    print(matrix_CVA.shape)    \n",
    "    SCM=0.0  # SCM 存放光谱角\n",
    "    tagSum=0.0\n",
    "    tagEum=0.0\n",
    "    s1=0.0\n",
    "    s2=0.0\n",
    "    Ax = 0.0\n",
    "    Ay1 = 0.0\n",
    "    Ay2 = 0.0\n",
    "    Ay3 =0.0\n",
    "    A=0.0 #A存放余弦值\n",
    "    mean_t1=0.0 #计算平均值\n",
    "    mean_t2=0.0\n",
    "    for i in range(row1):\n",
    "        for j in range(col1):\n",
    "            tagSum=0.0\n",
    "            Ax=0.0\n",
    "            Ay1=0.0\n",
    "            Ay2=0.0\n",
    "            Ay3=0.0\n",
    "            A =0.0\n",
    "            SAD = 0.0\n",
    "            mean_t1=(img1[i,j,0]+img1[i,j,1]+img1[i,j,2])/3.0\n",
    "            mean_t2=(img2[i,j,0]+img2[i,j,1]+img2[i,j,2])/3.0            \n",
    "            for k in range(dim1):\n",
    "                Ax+=int(img1[i,j,k]-mean_t1)*int(img2[i,j,k]-mean_t2)\n",
    "                Ay1+=int(img1[i,j,k]-mean_t1)*int(img1[i,j,k]-mean_t1)\n",
    "                Ay2+=int(img2[i,j,k]-mean_t2)*int(img2[i,j,k]-mean_t2)\n",
    "                s1=int(img1[i,j,k])\n",
    "                s2=int(img2[i,j,k]) \n",
    "                tagEum=abs(s1-s2)\n",
    "                agSum+=tagEum*tagEum\n",
    "            Ay1=math.sqrt(Ay1)\n",
    "            Ay2=math.sqrt(Ay2)\n",
    "            Ay3=Ay1*Ay2\n",
    "            \n",
    "            \n",
    "            if Ay1==0 or Ay2==0:\n",
    "                SCM=0\n",
    "            elif Ax==0: # 内积为0\n",
    "                SCM=90\n",
    "            else:\n",
    "                A=Ax/Ay3\n",
    "                #print(A)\n",
    "                AA=abs(A-1)\n",
    "                if AA<1e-7:\n",
    "                    SCM=0\n",
    "                else:\n",
    "                    SCM=math.acos(A)*180.0/3.1415926\n",
    "            \n",
    "            tagSum=math.sqrt(tagSum)\n",
    "            \n",
    "                \n",
    "    "
   ]
  },
  {
   "cell_type": "code",
   "execution_count": 10,
   "metadata": {},
   "outputs": [],
   "source": [
    "x = np.array([[3,4],[5,6],[2,2],[8,4]])"
   ]
  },
  {
   "cell_type": "code",
   "execution_count": 11,
   "metadata": {},
   "outputs": [
    {
     "data": {
      "text/plain": [
       "array([[3, 4],\n",
       "       [5, 6],\n",
       "       [2, 2],\n",
       "       [8, 4]])"
      ]
     },
     "execution_count": 11,
     "metadata": {},
     "output_type": "execute_result"
    }
   ],
   "source": [
    "x"
   ]
  },
  {
   "cell_type": "code",
   "execution_count": 12,
   "metadata": {},
   "outputs": [],
   "source": [
    "xT=x.T"
   ]
  },
  {
   "cell_type": "code",
   "execution_count": 13,
   "metadata": {},
   "outputs": [
    {
     "data": {
      "text/plain": [
       "array([[3, 5, 2, 8],\n",
       "       [4, 6, 2, 4]])"
      ]
     },
     "execution_count": 13,
     "metadata": {},
     "output_type": "execute_result"
    }
   ],
   "source": [
    "xT"
   ]
  },
  {
   "cell_type": "code",
   "execution_count": 14,
   "metadata": {},
   "outputs": [],
   "source": [
    "D=np.cov(xT)# 求协方差矩阵"
   ]
  },
  {
   "cell_type": "code",
   "execution_count": 15,
   "metadata": {},
   "outputs": [
    {
     "data": {
      "text/plain": [
       "array([[7.        , 2.        ],\n",
       "       [2.        , 2.66666667]])"
      ]
     },
     "execution_count": 15,
     "metadata": {},
     "output_type": "execute_result"
    }
   ],
   "source": [
    "D"
   ]
  },
  {
   "cell_type": "code",
   "execution_count": 23,
   "metadata": {},
   "outputs": [
    {
     "name": "stdout",
     "output_type": "stream",
     "text": [
      "[255, 45, 66]\n",
      "[255, 45, 65]\n",
      "[[255  45  66]\n",
      " [255  45  65]]\n",
      "[[255 255]\n",
      " [ 45  45]\n",
      " [ 66  65]]\n",
      "2.0000000000033538\n",
      "2.0000000000004547\n",
      "1.9999999999932179\n"
     ]
    }
   ],
   "source": [
    "import numpy as np\n",
    "\n",
    "\n",
    "def mashi_distance(x,y):\n",
    "    print (x)\n",
    "    print (y)\n",
    "    #马氏距离要求样本数要大于维数，否则无法求协方差矩阵\n",
    "    #此处进行转置，表示10个样本，每个样本2维\n",
    "    X=np.vstack([x,y])\n",
    "\n",
    "    print(X)\n",
    "    XT=X.T\n",
    "\n",
    "    print (XT)\n",
    "\n",
    "    #方法一：根据公式求解\n",
    "    S=np.cov(X)   #两个维度之间协方差矩阵\n",
    "    SI = np.linalg.inv(S) #协方差矩阵的逆矩阵\n",
    "    #马氏距离计算两个样本之间的距离，此处共有4个样本，两两组合，共有6个距离。\n",
    "    n=XT.shape[0]\n",
    "    d1=[]\n",
    "    for i in range(0,n):\n",
    "        for j in range(i+1,n):\n",
    "            delta=XT[i]-XT[j]\n",
    "            d=np.sqrt(np.dot(np.dot(delta,SI),delta.T))\n",
    "            print(d)\n",
    "            d1.append(d)\n",
    "\n",
    "\n",
    "if __name__ == '__main__':\n",
    "    # 第一列\n",
    "    x = [255,45,66]\n",
    "\n",
    "    # 第二列\n",
    "    y = [255,45,65]\n",
    "\n",
    "    mashi_distance(x,y)\n",
    "\n"
   ]
  },
  {
   "cell_type": "code",
   "execution_count": null,
   "metadata": {},
   "outputs": [],
   "source": []
  }
 ],
 "metadata": {
  "kernelspec": {
   "display_name": "Python 3",
   "language": "python",
   "name": "python3"
  },
  "language_info": {
   "codemirror_mode": {
    "name": "ipython",
    "version": 3
   },
   "file_extension": ".py",
   "mimetype": "text/x-python",
   "name": "python",
   "nbconvert_exporter": "python",
   "pygments_lexer": "ipython3",
   "version": "3.7.1"
  }
 },
 "nbformat": 4,
 "nbformat_minor": 4
}
