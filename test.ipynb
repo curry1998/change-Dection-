{
 "cells": [
  {
   "cell_type": "code",
   "execution_count": 6,
   "metadata": {},
   "outputs": [
    {
     "name": "stdout",
     "output_type": "stream",
     "text": [
      "(950, 750, 3)\n",
      "(950, 750, 3)\n",
      "\n",
      "The best OTSU Threshold:  [29]\n"
     ]
    },
    {
     "data": {
      "text/plain": [
       "'\\ncv2.imwrite(\"..\\\\RXX-2020-CVA\\\\Testing dataset\\\\TianJing-SPOT/subtrcat.bmp\",thread1)\\ncv2.imwrite(\"..\\\\RXX-2020-CVA\\\\Testing dataset\\\\TianJing-SPOT/divide.bmp\",thread2)\\ncv2.imwrite(\"..\\\\RXX-2020-CVA\\\\Testing dataset\\\\TianJing-SPOT/cva.bmp\",thread3)\\n'"
      ]
     },
     "execution_count": 6,
     "metadata": {},
     "output_type": "execute_result"
    },
    {
     "data": {
      "image/png": "[encoded data removed]",
      "text/plain": [
       "<Figure size 432x288 with 1 Axes>"
      ]
     },
     "metadata": {
      "needs_background": "light"
     },
     "output_type": "display_data"
    }
   ],
   "source": [
    "import cv2\n",
    "import matplotlib.pyplot as plt\n",
    "import numpy as np\n",
    "import math\n",
    "\n",
    "from test2 import  CD_diff\n",
    "from test2 import divede,cva,divede\n",
    "from eveluate import evevalue_it\n",
    "import numpy as np\n",
    "\n",
    "\n",
    "img1=cv2.imread(r'C:\\Users\\dell\\Desktop\\RXX-2020-CVA\\RXX-2020-CVA\\Testing dataset\\B-landslideAerialImage/2007dopdyssub2B_CopyRaster.tif')\n",
    "img2=cv2.imread(r'C:\\Users\\dell\\Desktop\\RXX-2020-CVA\\RXX-2020-CVA\\Testing dataset\\B-landslideAerialImage/2014dopdyssubB_CopyRaster.tif')\n",
    "\n",
    "print(img1.shape)\n",
    "print(img2.shape)\n",
    "\n",
    "def Find_Threshold(delta):#OTSU寻找阈值\n",
    "    # 求灰度方差最大的那个数\n",
    "    #主要是利用方差来进行计算\n",
    "\n",
    "    val=np.zeros([256])\n",
    "    for th in range(256):\n",
    "        loc1=delta>th\n",
    "        # loc1 为true 或false 的矩阵\n",
    "        loc2=delta<=th\n",
    "        '''delta[loc1]=255\n",
    "        delta[loc2]=0'''\n",
    "        #delta[loc1] 将为True 的矩阵元素提取出来为1维\n",
    "        if delta[loc1].size==0:\n",
    "            mu1=0\n",
    "            omega1=0\n",
    "        else:\n",
    "            mu1=np.mean(delta[loc1])\n",
    "            #平均值\n",
    "            omega1=delta[loc1].size/delta.size\n",
    "            # 所占比例\n",
    "        if delta[loc2].size==0:\n",
    "            mu2=0\n",
    "            omega2=0\n",
    "        else:\n",
    "            mu2=np.mean(delta[loc2])\n",
    "            omega2=delta[loc2].size/delta.size\n",
    "        \n",
    "        #最终推导的公式为  g=w0*w1*()\n",
    "        # 这里使用了最后的推导公式原文地址https://blog.csdn.net/guoyk1990/article/details/7606032?utm_medium=distribute.pc_relevant.none-task-blog-BlogCommendFromMachineLearnPai2-1.nonecase&depth_1-utm_source=distribute.pc_relevant.none-task-blog-BlogCommendFromMachineLearnPai2-1.nonecase\n",
    "        val[th]=omega1*omega2*np.power((mu1-mu2),2)\n",
    "\n",
    "    #print(\"val=\",val.shape)\n",
    "    plt.figure()\n",
    "    # val 存放的是类间方差 取其最大\n",
    "    loc=np.where(val==np.max(val))\n",
    "    #x=np.arange(0,256,1)\n",
    "    #x=x.reshape([1,256])\n",
    "    plt.plot(val)\n",
    "    plt.ylabel(\"Var\")\n",
    "    plt.xlabel(\"Threshold\")\n",
    "    plt.grid(\"on\")\n",
    "\n",
    "    print(\"\\nThe best OTSU Threshold: \",loc[0])\n",
    "    return loc[0]\n",
    "# 噪声处理\n",
    "def median_blur_demo(image):    # 中值模糊  对椒盐噪声有很好的去燥效果\n",
    "    dst = cv2.medianBlur(image, 5)\n",
    "    return dst\n",
    "\n",
    "(row,cloun,dim)=img1.shape\n",
    "\n",
    "def CD_diff(img1,img2):#影像差值法\n",
    "    #img1=median_blur_demo(img1)\n",
    "    #img2=median_blur_demo(img2)\n",
    "    sh=img1.shape\n",
    "    delta=cv2.subtract(img1,img2)\n",
    "    th=Find_Threshold(delta)\n",
    "    # 设为灰度值 再进行运算\n",
    "    delta = cv2.cvtColor(delta, cv2.COLOR_BGR2GRAY)\n",
    "    #print(delta.min())\n",
    "    if np.size(th)>1:\n",
    "        th=th[0]\n",
    "    for i1 in range(sh[0]):\n",
    "        for i2 in range(sh[1]):\n",
    "            if delta[i1][i2]>=th:\n",
    "                delta[i1][i2]=255\n",
    "            else:\n",
    "                delta[i1][i2]=0\n",
    "    return delta\n",
    "\n",
    "\n",
    "diff=CD_diff(img1,img2)\n",
    "\n",
    "\n",
    "#plt.show()\n",
    "#膨胀操作\n",
    "#thread1=cv2.dilate(thread1,kernel,iterations=1)\n",
    "cv2.imshow('diff',diff)\n",
    "cv2.waitKey(0)\n",
    "cv2.destroyAllWindows()\n",
    "\n",
    "# 保存图片\n",
    "'''\n",
    "cv2.imwrite(\"..\\RXX-2020-CVA\\Testing dataset\\TianJing-SPOT/subtrcat.bmp\",thread1)\n",
    "cv2.imwrite(\"..\\RXX-2020-CVA\\Testing dataset\\TianJing-SPOT/divide.bmp\",thread2)\n",
    "cv2.imwrite(\"..\\RXX-2020-CVA\\Testing dataset\\TianJing-SPOT/cva.bmp\",thread3)\n",
    "'''"
   ]
  },
  {
   "cell_type": "code",
   "execution_count": null,
   "metadata": {},
   "outputs": [],
   "source": []
  },
  {
   "cell_type": "code",
   "execution_count": null,
   "metadata": {},
   "outputs": [],
   "source": []
  },
  {
   "cell_type": "code",
   "execution_count": null,
   "metadata": {},
   "outputs": [],
   "source": []
  },
  {
   "cell_type": "code",
   "execution_count": null,
   "metadata": {},
   "outputs": [],
   "source": []
  }
 ],
 "metadata": {
  "kernelspec": {
   "display_name": "Python 3",
   "language": "python",
   "name": "python3"
  },
  "language_info": {
   "codemirror_mode": {
    "name": "ipython",
    "version": 3
   },
   "file_extension": ".py",
   "mimetype": "text/x-python",
   "name": "python",
   "nbconvert_exporter": "python",
   "pygments_lexer": "ipython3",
   "version": "3.7.1"
  }
 },
 "nbformat": 4,
 "nbformat_minor": 2
}
